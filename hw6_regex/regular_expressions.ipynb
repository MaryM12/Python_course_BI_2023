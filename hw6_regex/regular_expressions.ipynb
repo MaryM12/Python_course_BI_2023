{
  "nbformat": 4,
  "nbformat_minor": 0,
  "metadata": {
    "colab": {
      "provenance": []
    },
    "kernelspec": {
      "name": "python3",
      "display_name": "Python 3"
    },
    "language_info": {
      "name": "python"
    }
  },
  "cells": [
    {
      "cell_type": "markdown",
      "source": [
        "### Regex HW"
      ],
      "metadata": {
        "id": "U4L62xD-jj7a"
      }
    },
    {
      "cell_type": "code",
      "source": [
        "import re\n",
        "import matplotlib.pyplot as plt"
      ],
      "metadata": {
        "id": "nqbOwDzFjmKN"
      },
      "execution_count": null,
      "outputs": []
    },
    {
      "cell_type": "code",
      "source": [
        "#download the input file\n",
        "!wget https://raw.githubusercontent.com/Serfentum/bf_course/master/15.re/references"
      ],
      "metadata": {
        "colab": {
          "base_uri": "https://localhost:8080/"
        },
        "id": "eSi-U7uojpfq",
        "outputId": "ec0024c4-ad5f-4b55-fb94-64f40c638ebc"
      },
      "execution_count": null,
      "outputs": [
        {
          "output_type": "stream",
          "name": "stdout",
          "text": [
            "--2022-11-18 03:20:17--  https://raw.githubusercontent.com/Serfentum/bf_course/master/15.re/references\n",
            "Resolving raw.githubusercontent.com (raw.githubusercontent.com)... 185.199.108.133, 185.199.109.133, 185.199.110.133, ...\n",
            "Connecting to raw.githubusercontent.com (raw.githubusercontent.com)|185.199.108.133|:443... connected.\n",
            "HTTP request sent, awaiting response... 200 OK\n",
            "Length: 1206044 (1.1M) [text/plain]\n",
            "Saving to: ‘references.1’\n",
            "\n",
            "references.1        100%[===================>]   1.15M  --.-KB/s    in 0.05s   \n",
            "\n",
            "2022-11-18 03:20:17 (22.4 MB/s) - ‘references.1’ saved [1206044/1206044]\n",
            "\n"
          ]
        }
      ]
    },
    {
      "cell_type": "markdown",
      "source": [
        "Task 1"
      ],
      "metadata": {
        "id": "zFfCRLtc6-ik"
      }
    },
    {
      "cell_type": "code",
      "source": [
        "with open('/content/references') as inp_file, open('ftps', \"w\") as file_with_ftps:\n",
        "    pattern = r\"ftp\\.[\\w./#]*\"  #matches links either with or without file extentions\n",
        "    for line in inp_file:\n",
        "        for link in re.findall(pattern, line):\n",
        "            print(link.strip().replace(';', ''), file=file_with_ftps, sep = '\\n') # write the output into a file\n"
      ],
      "metadata": {
        "id": "Wyp5lEzkoDhi"
      },
      "execution_count": null,
      "outputs": []
    },
    {
      "cell_type": "markdown",
      "source": [
        "Task 2"
      ],
      "metadata": {
        "id": "oZU27QcG7Arn"
      }
    },
    {
      "cell_type": "code",
      "source": [
        "!wget https://raw.githubusercontent.com/Serfentum/bf_course/master/15.re/2430AD"
      ],
      "metadata": {
        "colab": {
          "base_uri": "https://localhost:8080/"
        },
        "id": "vZVmk6mi0ctw",
        "outputId": "16284baa-5a58-4359-ebed-b82ce92bfe60"
      },
      "execution_count": null,
      "outputs": [
        {
          "output_type": "stream",
          "name": "stdout",
          "text": [
            "--2022-11-18 03:20:17--  https://raw.githubusercontent.com/Serfentum/bf_course/master/15.re/2430AD\n",
            "Resolving raw.githubusercontent.com (raw.githubusercontent.com)... 185.199.109.133, 185.199.111.133, 185.199.108.133, ...\n",
            "Connecting to raw.githubusercontent.com (raw.githubusercontent.com)|185.199.109.133|:443... connected.\n",
            "HTTP request sent, awaiting response... 200 OK\n",
            "Length: 16759 (16K) [text/plain]\n",
            "Saving to: ‘2430AD.1’\n",
            "\n",
            "\r2430AD.1              0%[                    ]       0  --.-KB/s               \r2430AD.1            100%[===================>]  16.37K  --.-KB/s    in 0.001s  \n",
            "\n",
            "2022-11-18 03:20:17 (18.4 MB/s) - ‘2430AD.1’ saved [16759/16759]\n",
            "\n"
          ]
        }
      ]
    },
    {
      "cell_type": "code",
      "source": [
        "with open(\"/content/2430AD\") as inp_file, open('numbers', \"w\") as file_with_nums:\n",
        "    pattern_num = r\"((\\d+(\\.\\d+)?)|(\\.\\d+))\" # a pattern that matches all numbers\n",
        "    for line in inp_file:\n",
        "        match = re.findall(pattern_num, line)\n",
        "        for num in match:\n",
        "            print(num[0], file=file_with_nums, sep = '\\n')  # write the output into a file\n",
        "\n",
        "\n"
      ],
      "metadata": {
        "id": "daTQg8MH3DWU"
      },
      "execution_count": null,
      "outputs": []
    },
    {
      "cell_type": "markdown",
      "source": [
        "Task 3"
      ],
      "metadata": {
        "id": "KTGWFDAMIFfl"
      }
    },
    {
      "cell_type": "code",
      "source": [
        "with open(\"/content/2430AD\") as inp_file, open('a_words', \"w\") as file_a:\n",
        "    pattern_a = r\"\\w*[a]\\w*\" # a pattern for words with letter \"a\"\n",
        "    for line in inp_file:\n",
        "        match = re.findall(pattern_a, line, re.IGNORECASE)\n",
        "        for word in match:\n",
        "            print(word, file=file_a, sep = '\\n') # write the output into a file\n"
      ],
      "metadata": {
        "id": "KrLljTVuIE6F"
      },
      "execution_count": null,
      "outputs": []
    },
    {
      "cell_type": "markdown",
      "source": [
        "Task 4"
      ],
      "metadata": {
        "id": "zKhmntuJJsi5"
      }
    },
    {
      "cell_type": "code",
      "source": [
        "with open(\"/content/2430AD\") as inp_file, open('exclamations', \"w\") as file_excl:\n",
        "    pattern_excl = r\"([A-Z][^\\.!?]*!)\" # a pattern for exclamations\n",
        "    for line in inp_file:\n",
        "        match = re.findall(pattern_excl, line)\n",
        "        for sentence in match:\n",
        "            print(sentence, file=file_excl, sep = '\\n') # write the output into a file"
      ],
      "metadata": {
        "id": "6hKl3S9sFxeI"
      },
      "execution_count": null,
      "outputs": []
    },
    {
      "cell_type": "markdown",
      "source": [
        "Task 5"
      ],
      "metadata": {
        "id": "IhVUIKRwPvDf"
      }
    },
    {
      "cell_type": "markdown",
      "source": [
        "5. Постройте гистограмму распределения длин уникальных слов (без учёта регистра, длина от 1) в тексте.   (5 баллов)"
      ],
      "metadata": {
        "id": "RDlw86YhPwxJ"
      }
    },
    {
      "cell_type": "code",
      "source": [
        "pattern_words = r\"[a-zA-Z\\'\\-]+\"  #not including numbers; a word may contain \"-\" and \"'\" symbols\n",
        "with open(\"/content/2430AD\") as inp_file:\n",
        "    story = inp_file.read()       #read the whole file\n",
        "\n",
        "word_list = re.findall(pattern_words, story)\n",
        "unique_words = set([x.lower() for x in word_list])\n",
        "# number of unique words\n",
        "len_all = len(unique_words)\n",
        "# make a dictionary word length : words\n",
        "dict_words = {}          \n",
        "for item in unique_words:\n",
        "    dict_words.setdefault(len(item), []).append(item)\n",
        "# make a dictionary word length : frequency\n",
        "dict_freqs = {}\n",
        "for key in sorted(dict_words.keys()):\n",
        "    dict_freqs[key] = len(dict_words[key])/len_all\n",
        "dict_freqs"
      ],
      "metadata": {
        "colab": {
          "base_uri": "https://localhost:8080/"
        },
        "id": "eYAr8SlBPv31",
        "outputId": "6e74a2aa-dcfe-400c-82c8-6b06fdf0d281"
      },
      "execution_count": null,
      "outputs": [
        {
          "output_type": "execute_result",
          "data": {
            "text/plain": [
              "{1: 0.004206098843322818,\n",
              " 2: 0.026288117770767613,\n",
              " 3: 0.07676130389064142,\n",
              " 4: 0.16929547844374343,\n",
              " 5: 0.15667718191377497,\n",
              " 6: 0.15141955835962145,\n",
              " 7: 0.1398527865404837,\n",
              " 8: 0.10725552050473186,\n",
              " 9: 0.07045215562565721,\n",
              " 10: 0.03995793901156677,\n",
              " 11: 0.029442691903259727,\n",
              " 12: 0.011566771819137749,\n",
              " 13: 0.0031545741324921135,\n",
              " 14: 0.004206098843322818,\n",
              " 15: 0.002103049421661409,\n",
              " 16: 0.0010515247108307045,\n",
              " 17: 0.002103049421661409,\n",
              " 18: 0.0010515247108307045,\n",
              " 19: 0.002103049421661409,\n",
              " 20: 0.0010515247108307045}"
            ]
          },
          "metadata": {},
          "execution_count": 155
        }
      ]
    },
    {
      "cell_type": "code",
      "source": [
        "# plot \n",
        "plt.figure(figsize=(10,8));\n",
        "plt.bar(dict_freqs.keys(), dict_freqs.values(), width = 1, edgecolor = \"black\");\n",
        "plt.tight_layout();\n",
        "plt.xticks(list(i for i in range(1, len(dict_freqs)+1)));\n",
        "plt.xlabel(\"Word length\");\n",
        "plt.ylabel(\"Frequency\");\n",
        "plt.show;"
      ],
      "metadata": {
        "colab": {
          "base_uri": "https://localhost:8080/",
          "height": 599
        },
        "id": "OmwSs1tGbHrU",
        "outputId": "57195ae5-f851-4782-9be7-453a055497b4"
      },
      "execution_count": null,
      "outputs": [
        {
          "output_type": "display_data",
          "data": {
            "text/plain": [
              "<Figure size 720x576 with 1 Axes>"
            ],
            "image/png": "[encoded data removed]"
          },
          "metadata": {
            "needs_background": "light"
          }
        }
      ]
    },
    {
      "cell_type": "markdown",
      "source": [
        "Task 6"
      ],
      "metadata": {
        "id": "iPLJUXYDg36x"
      }
    },
    {
      "cell_type": "code",
      "source": [
        "def brick_translator(text):\n",
        "    translated = re.sub(r'([ауоыиэяюёеАУОЫИЭЯЮЁЕ])', r'\\1к\\1', text)\n",
        "    return translated\n",
        "\n",
        "brick_translator(\"Синхрофазатрон\")"
      ],
      "metadata": {
        "colab": {
          "base_uri": "https://localhost:8080/",
          "height": 36
        },
        "id": "HY21YQvYXBLO",
        "outputId": "2cbaaecf-b66d-41c7-d860-9307b583b99b"
      },
      "execution_count": null,
      "outputs": [
        {
          "output_type": "execute_result",
          "data": {
            "text/plain": [
              "'Сикинхрокофаказакатрокон'"
            ],
            "application/vnd.google.colaboratory.intrinsic+json": {
              "type": "string"
            }
          },
          "metadata": {},
          "execution_count": 157
        }
      ]
    },
    {
      "cell_type": "markdown",
      "source": [
        "Task 7"
      ],
      "metadata": {
        "id": "uSMOYDDLkBCu"
      }
    },
    {
      "cell_type": "code",
      "source": [
        "def find_sent(text):\n",
        "    sentences = []\n",
        "    sentence_pattern = r\"([A-ZА-Я][^\\.!?]*)\"\n",
        "    sentences.extend(re.findall(sentence_pattern, text))\n",
        "    return sentences\n",
        "def find_n_words_sentences(text, n):\n",
        "    sentences = find_sent(text=text)\n",
        "    matched_sent = []\n",
        "    for sentence in sentences:\n",
        "        words = (re.findall(r\"[a-zA-ZА-Яа-я\\'\\-]+\", sentence))\n",
        "        if len(words) == n:\n",
        "            matched_sent.append(tuple(words))\n",
        "    return matched_sent"
      ],
      "metadata": {
        "id": "OXJultzcjfDj"
      },
      "execution_count": null,
      "outputs": []
    },
    {
      "cell_type": "code",
      "source": [
        "find_n_words_sentences(\"Здесь три слова. Здесь тоже три\", 3)    "
      ],
      "metadata": {
        "colab": {
          "base_uri": "https://localhost:8080/"
        },
        "id": "DWLpx_IGsyey",
        "outputId": "8aa8fbbf-26a4-4c45-a33a-e95618a23c93"
      },
      "execution_count": null,
      "outputs": [
        {
          "output_type": "execute_result",
          "data": {
            "text/plain": [
              "[('Здесь', 'три', 'слова'), ('Здесь', 'тоже', 'три')]"
            ]
          },
          "metadata": {},
          "execution_count": 159
        }
      ]
    },
    {
      "cell_type": "code",
      "source": [],
      "metadata": {
        "id": "EjOz5DqJnL6G"
      },
      "execution_count": null,
      "outputs": []
    },
    {
      "cell_type": "code",
      "source": [],
      "metadata": {
        "id": "sRcqo-6Au4dS"
      },
      "execution_count": null,
      "outputs": []
    }
  ]
}